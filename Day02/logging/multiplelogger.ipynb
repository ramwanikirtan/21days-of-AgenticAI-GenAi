{
 "cells": [
  {
   "cell_type": "markdown",
   "id": "2622d4c6",
   "metadata": {},
   "source": [
    "## Logging with multiple logger\n",
    "\n",
    "Create multiple loggers for different parts of your application"
   ]
  },
  {
   "cell_type": "code",
   "execution_count": 3,
   "id": "2e419dcd",
   "metadata": {},
   "outputs": [],
   "source": [
    "import logging\n",
    "\n",
    "## create a logger for module5\n",
    "\n",
    "logger1 = logging.getLogger(\"module5\")\n",
    "logger1.setLevel(logging.DEBUG)\n",
    "\n",
    "\n",
    "## create a logger for module7\n",
    "logger2 = logging.getLogger(\"module7\")\n",
    "logger2.setLevel(logging.WARNING)\n",
    "\n",
    "## configure logging\n",
    "logging.basicConfig(\n",
    "    filename='app.log',\n",
    "    filemode='w',\n",
    "    level=logging.DEBUG,\n",
    "    format='%(asctime)s-%(name)s-%(levelname)s-%(message)s',\n",
    "    datefmt='%Y-%m-%d %H:%M:%S'\n",
    ")"
   ]
  },
  {
   "cell_type": "code",
   "execution_count": 4,
   "id": "757bab99",
   "metadata": {},
   "outputs": [],
   "source": [
    "## log message with different loggers\n",
    "\n",
    "logger1.debug(\"This is a debug message from module5\")\n",
    "logger2.warning(\"this is a warning message from module7\")\n",
    "logger2.error(\"this is an error message from module7\")"
   ]
  },
  {
   "cell_type": "code",
   "execution_count": null,
   "id": "fb29e59c",
   "metadata": {},
   "outputs": [],
   "source": []
  }
 ],
 "metadata": {
  "kernelspec": {
   "display_name": "Python 3",
   "language": "python",
   "name": "python3"
  },
  "language_info": {
   "codemirror_mode": {
    "name": "ipython",
    "version": 3
   },
   "file_extension": ".py",
   "mimetype": "text/x-python",
   "name": "python",
   "nbconvert_exporter": "python",
   "pygments_lexer": "ipython3",
   "version": "3.13.5"
  }
 },
 "nbformat": 4,
 "nbformat_minor": 5
}
