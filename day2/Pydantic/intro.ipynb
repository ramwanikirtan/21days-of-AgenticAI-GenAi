{
 "cells": [
  {
   "cell_type": "markdown",
   "id": "d86b3a14",
   "metadata": {},
   "source": [
    "## Pydantic Basics: Creating and Using Models\n",
    "\n",
    "Pydantic models are Foundations of Data Validation in Python.\n",
    "- Uses python Type Annotation to define the structure and validate data at runtime.\n"
   ]
  },
  {
   "cell_type": "code",
   "execution_count": 16,
   "id": "db751a1d",
   "metadata": {},
   "outputs": [],
   "source": [
    "from pydantic import BaseModel"
   ]
  },
  {
   "cell_type": "code",
   "execution_count": 17,
   "id": "6cb1cfb4",
   "metadata": {},
   "outputs": [
    {
     "name": "stdout",
     "output_type": "stream",
     "text": [
      "Person(name='Kirtan', age=21, city='Debrecen', country='Hungary')\n"
     ]
    },
    {
     "data": {
      "text/plain": [
       "__main__.Person"
      ]
     },
     "execution_count": 17,
     "metadata": {},
     "output_type": "execute_result"
    }
   ],
   "source": [
    "from dataclasses import dataclass\n",
    "\n",
    "@dataclass\n",
    "class Person():\n",
    "    name :str\n",
    "    age:int\n",
    "    city:str\n",
    "    country:str\n",
    "\n",
    "\n",
    "person1 = Person(name=\"Kirtan\",age=21,city=\"Debrecen\",country=\"Hungary\")\n",
    "\n",
    "print(person1)\n",
    "type(person1)\n"
   ]
  },
  {
   "cell_type": "code",
   "execution_count": 19,
   "id": "a575fd3b",
   "metadata": {},
   "outputs": [
    {
     "name": "stdout",
     "output_type": "stream",
     "text": [
      "Person(name='Ramwani', age='25', city='debrecen', country=36)\n"
     ]
    }
   ],
   "source": [
    "person2 = Person(name=\"Ramwani\",age=\"25\",city=\"debrecen\",country=+36)   ## dataclass models no  validation error\n",
    "print(person2)"
   ]
  },
  {
   "cell_type": "code",
   "execution_count": 20,
   "id": "1ee15f31",
   "metadata": {},
   "outputs": [
    {
     "name": "stdout",
     "output_type": "stream",
     "text": [
      "name='Kirtan' age=21 city='Debrecen' country='Hungary'\n"
     ]
    },
    {
     "data": {
      "text/plain": [
       "__main__.Person"
      ]
     },
     "execution_count": 20,
     "metadata": {},
     "output_type": "execute_result"
    }
   ],
   "source": [
    "class Person(BaseModel):\n",
    "    name :str\n",
    "    age:int\n",
    "    city:str\n",
    "    country:str\n",
    "\n",
    "\n",
    "person1 = Person(name=\"Kirtan\",age=21,city=\"Debrecen\",country=\"Hungary\")\n",
    "\n",
    "print(person1)\n",
    "type(person1)"
   ]
  },
  {
   "cell_type": "code",
   "execution_count": 21,
   "id": "bd66a409",
   "metadata": {},
   "outputs": [
    {
     "ename": "ValidationError",
     "evalue": "1 validation error for Person\ncountry\n  Input should be a valid string [type=string_type, input_value=36, input_type=int]\n    For further information visit https://errors.pydantic.dev/2.11/v/string_type",
     "output_type": "error",
     "traceback": [
      "\u001b[31m---------------------------------------------------------------------------\u001b[39m",
      "\u001b[31mValidationError\u001b[39m                           Traceback (most recent call last)",
      "\u001b[36mCell\u001b[39m\u001b[36m \u001b[39m\u001b[32mIn[21]\u001b[39m\u001b[32m, line 1\u001b[39m\n\u001b[32m----> \u001b[39m\u001b[32m1\u001b[39m person2 = \u001b[43mPerson\u001b[49m\u001b[43m(\u001b[49m\u001b[43mname\u001b[49m\u001b[43m=\u001b[49m\u001b[33;43m\"\u001b[39;49m\u001b[33;43mRamwani\u001b[39;49m\u001b[33;43m\"\u001b[39;49m\u001b[43m,\u001b[49m\u001b[43mage\u001b[49m\u001b[43m=\u001b[49m\u001b[33;43m\"\u001b[39;49m\u001b[33;43m25\u001b[39;49m\u001b[33;43m\"\u001b[39;49m\u001b[43m,\u001b[49m\u001b[43mcity\u001b[49m\u001b[43m=\u001b[49m\u001b[33;43m\"\u001b[39;49m\u001b[33;43mdebrecen\u001b[39;49m\u001b[33;43m\"\u001b[39;49m\u001b[43m,\u001b[49m\u001b[43mcountry\u001b[49m\u001b[43m=\u001b[49m\u001b[43m+\u001b[49m\u001b[32;43m36\u001b[39;49m\u001b[43m)\u001b[49m   \u001b[38;5;66;03m## base models validation error\u001b[39;00m\n",
      "\u001b[36mFile \u001b[39m\u001b[32mc:\\Users\\Ramwani\\Desktop\\Video Tutorials\\venv\\Lib\\site-packages\\pydantic\\main.py:253\u001b[39m, in \u001b[36mBaseModel.__init__\u001b[39m\u001b[34m(self, **data)\u001b[39m\n\u001b[32m    251\u001b[39m \u001b[38;5;66;03m# `__tracebackhide__` tells pytest and some other tools to omit this function from tracebacks\u001b[39;00m\n\u001b[32m    252\u001b[39m __tracebackhide__ = \u001b[38;5;28;01mTrue\u001b[39;00m\n\u001b[32m--> \u001b[39m\u001b[32m253\u001b[39m validated_self = \u001b[38;5;28;43mself\u001b[39;49m\u001b[43m.\u001b[49m\u001b[43m__pydantic_validator__\u001b[49m\u001b[43m.\u001b[49m\u001b[43mvalidate_python\u001b[49m\u001b[43m(\u001b[49m\u001b[43mdata\u001b[49m\u001b[43m,\u001b[49m\u001b[43m \u001b[49m\u001b[43mself_instance\u001b[49m\u001b[43m=\u001b[49m\u001b[38;5;28;43mself\u001b[39;49m\u001b[43m)\u001b[49m\n\u001b[32m    254\u001b[39m \u001b[38;5;28;01mif\u001b[39;00m \u001b[38;5;28mself\u001b[39m \u001b[38;5;129;01mis\u001b[39;00m \u001b[38;5;129;01mnot\u001b[39;00m validated_self:\n\u001b[32m    255\u001b[39m     warnings.warn(\n\u001b[32m    256\u001b[39m         \u001b[33m'\u001b[39m\u001b[33mA custom validator is returning a value other than `self`.\u001b[39m\u001b[38;5;130;01m\\n\u001b[39;00m\u001b[33m'\u001b[39m\n\u001b[32m    257\u001b[39m         \u001b[33m\"\u001b[39m\u001b[33mReturning anything other than `self` from a top level model validator isn\u001b[39m\u001b[33m'\u001b[39m\u001b[33mt supported when validating via `__init__`.\u001b[39m\u001b[38;5;130;01m\\n\u001b[39;00m\u001b[33m\"\u001b[39m\n\u001b[32m    258\u001b[39m         \u001b[33m'\u001b[39m\u001b[33mSee the `model_validator` docs (https://docs.pydantic.dev/latest/concepts/validators/#model-validators) for more details.\u001b[39m\u001b[33m'\u001b[39m,\n\u001b[32m    259\u001b[39m         stacklevel=\u001b[32m2\u001b[39m,\n\u001b[32m    260\u001b[39m     )\n",
      "\u001b[31mValidationError\u001b[39m: 1 validation error for Person\ncountry\n  Input should be a valid string [type=string_type, input_value=36, input_type=int]\n    For further information visit https://errors.pydantic.dev/2.11/v/string_type"
     ]
    }
   ],
   "source": [
    "person2 = Person(name=\"Ramwani\",age=\"25\",city=\"debrecen\",country=+36)   ## base models validation error\n"
   ]
  },
  {
   "cell_type": "markdown",
   "id": "aacb9b0b",
   "metadata": {},
   "source": [
    "## 2- Models with Optional fields\n",
    "\n",
    "add optional fields using Pythons's optional type"
   ]
  },
  {
   "cell_type": "code",
   "execution_count": 24,
   "id": "fc9d0df2",
   "metadata": {},
   "outputs": [],
   "source": [
    "from typing import Optional\n",
    "class Employee(BaseModel):\n",
    "    id:int\n",
    "    name:str\n",
    "    department:str\n",
    "    salary:Optional[float] = None   # Optional with default value None\n",
    "    is_active:Optional[bool] = True # Optional with default value True\n",
    "\n",
    "\n",
    "Employee1= Employee"
   ]
  },
  {
   "cell_type": "code",
   "execution_count": 26,
   "id": "209e2461",
   "metadata": {},
   "outputs": [
    {
     "name": "stdout",
     "output_type": "stream",
     "text": [
      "id=1 name='Kirtan' department='IT' salary=None is_active=True\n"
     ]
    }
   ],
   "source": [
    "# Examples without optional value\n",
    "employee1= Employee(id=1,name=\"Kirtan\",department=\"IT\")\n",
    "print(employee1)"
   ]
  },
  {
   "cell_type": "code",
   "execution_count": 27,
   "id": "06b6a4a1",
   "metadata": {},
   "outputs": [
    {
     "name": "stdout",
     "output_type": "stream",
     "text": [
      "id=2 name='Ramwani' department='Finance' salary=60000.0 is_active=False\n"
     ]
    }
   ],
   "source": [
    "# Examples with optional value\n",
    "employee2= Employee(id=2,name=\"Ramwani\",department=\"Finance\",salary=60000.00,is_active=False)\n",
    "print(employee2)"
   ]
  },
  {
   "cell_type": "code",
   "execution_count": 28,
   "id": "3a1a7a6c",
   "metadata": {},
   "outputs": [
    {
     "name": "stdout",
     "output_type": "stream",
     "text": [
      "id=2 name='Ramwani' department='Finance' salary=60000.0 is_active=False\n"
     ]
    }
   ],
   "source": [
    "employee3= Employee(id=2,name=\"Ramwani\",department=\"Finance\",salary=60000,is_active=False) ## automatic type casting\n",
    "print(employee3)"
   ]
  },
  {
   "cell_type": "code",
   "execution_count": 29,
   "id": "516f5c90",
   "metadata": {},
   "outputs": [],
   "source": [
    "from pydantic import BaseModel\n",
    "from typing import List\n",
    "\n",
    "\n",
    "class Classroom(BaseModel):\n",
    "    room_number:str\n",
    "    students:List[str]  ## list of strings i-e student names\n",
    "    capacity:int\n"
   ]
  },
  {
   "cell_type": "code",
   "execution_count": 31,
   "id": "5143b5fc",
   "metadata": {},
   "outputs": [
    {
     "name": "stdout",
     "output_type": "stream",
     "text": [
      "room_number='A101' students=['Alice', 'Bob', 'Charlie'] capacity=30\n"
     ]
    }
   ],
   "source": [
    "# create classroom\n",
    "classroom1 = Classroom(\n",
    "    room_number = \"A101\",\n",
    "    students=['Alice','Bob','Charlie'],\n",
    "    capacity=30\n",
    "\n",
    ")\n",
    "\n",
    "print(classroom1)"
   ]
  },
  {
   "cell_type": "code",
   "execution_count": 32,
   "id": "94e7c16d",
   "metadata": {},
   "outputs": [
    {
     "name": "stdout",
     "output_type": "stream",
     "text": [
      "room_number='A101' students=['Alice', 'Bob', 'Charlie'] capacity=30\n"
     ]
    }
   ],
   "source": [
    "classroom2 = Classroom(\n",
    "    room_number = \"A101\",\n",
    "    students=('Alice','Bob','Charlie'),  # typecasting of list to tuple\n",
    "    capacity=30\n",
    "\n",
    ")\n",
    "\n",
    "print(classroom2)"
   ]
  },
  {
   "cell_type": "code",
   "execution_count": 36,
   "id": "0e9e371a",
   "metadata": {},
   "outputs": [
    {
     "name": "stdout",
     "output_type": "stream",
     "text": [
      "Error: 3 validation errors for Classroom\n",
      "students.0\n",
      "  Input should be a valid string [type=string_type, input_value=1, input_type=int]\n",
      "    For further information visit https://errors.pydantic.dev/2.11/v/string_type\n",
      "students.1\n",
      "  Input should be a valid string [type=string_type, input_value=2, input_type=int]\n",
      "    For further information visit https://errors.pydantic.dev/2.11/v/string_type\n",
      "students.2\n",
      "  Input should be a valid string [type=string_type, input_value=3, input_type=int]\n",
      "    For further information visit https://errors.pydantic.dev/2.11/v/string_type\n"
     ]
    }
   ],
   "source": [
    "try:   \n",
    "    classroom3 = Classroom(room_number=\"A102\",students=(1,2,3),capacity=30)\n",
    "    print(classroom3)\n",
    "except ValueError as e:\n",
    "    print(\"Error:\" , e)\n",
    "\n"
   ]
  },
  {
   "cell_type": "markdown",
   "id": "f642b581",
   "metadata": {},
   "source": [
    "### 4. Model with nested models\n",
    "\n",
    "Creating complex struucture with nested models\n"
   ]
  },
  {
   "cell_type": "code",
   "execution_count": 42,
   "id": "8bd604f9",
   "metadata": {},
   "outputs": [],
   "source": [
    "from pydantic import BaseModel\n",
    "\n",
    "class Address(BaseModel):\n",
    "    street:str\n",
    "    city:str\n",
    "    zip_code:int\n",
    "\n",
    "class Customer(BaseModel):\n",
    "    customer_id : int\n",
    "    name : str\n",
    "    email :str\n",
    "    address : Address # nested model\n"
   ]
  },
  {
   "cell_type": "code",
   "execution_count": 46,
   "id": "44c38e4c",
   "metadata": {},
   "outputs": [
    {
     "name": "stdout",
     "output_type": "stream",
     "text": [
      "customer_id=1 name='Kirtan' email='ramwanikirtan@gmail.com' address=Address(street='123 Main st', city='Debrecen', zip_code=4029)\n"
     ]
    }
   ],
   "source": [
    "## create a customer with nested address \n",
    "\n",
    "customer1 = Customer(\n",
    "    customer_id=1,\n",
    "    name=\"Kirtan\",\n",
    "    email=\"ramwanikirtan@gmail.com\",\n",
    "    address={\n",
    "        \"street\" :\"123 Main st\",\n",
    "        \"city\" :'Debrecen',\n",
    "        \"zip_code\":\"4029\"  ## type casted\n",
    "    }\n",
    "\n",
    ")\n",
    "\n",
    "print(customer1)"
   ]
  },
  {
   "cell_type": "markdown",
   "id": "53ece6a1",
   "metadata": {},
   "source": [
    "## Pydantic fields : Customization and constraints\n",
    "\n",
    "The field function in pydantic enhances model fields beyond basic type hints by allowing you to specify validation rules,default values,aliases and more.\n"
   ]
  },
  {
   "cell_type": "code",
   "execution_count": 47,
   "id": "ea99a9ca",
   "metadata": {},
   "outputs": [],
   "source": [
    "from pydantic import BaseModel,Field\n",
    "\n",
    "class Item(BaseModel):\n",
    "    name:str= Field(min_length=3,max_length=50)\n",
    "    price:float= Field(gt=0,le=1000) ## greater than 0 and less than or equal to 1000\n",
    "    quantity:int= Field(ge=0)  ## greater than or equal to 0\n"
   ]
  },
  {
   "cell_type": "code",
   "execution_count": 48,
   "id": "afe9c0cc",
   "metadata": {},
   "outputs": [
    {
     "name": "stdout",
     "output_type": "stream",
     "text": [
      "name='Laptop' price=650.0 quantity=10\n"
     ]
    }
   ],
   "source": [
    " ## valid instance\n",
    "\n",
    "item1 = Item(name='Laptop',price=650,quantity=10)\n",
    "print(item1)"
   ]
  },
  {
   "cell_type": "code",
   "execution_count": 49,
   "id": "d38a2b43",
   "metadata": {},
   "outputs": [
    {
     "ename": "ValidationError",
     "evalue": "1 validation error for Item\nprice\n  Input should be less than or equal to 1000 [type=less_than_equal, input_value=1200, input_type=int]\n    For further information visit https://errors.pydantic.dev/2.11/v/less_than_equal",
     "output_type": "error",
     "traceback": [
      "\u001b[31m---------------------------------------------------------------------------\u001b[39m",
      "\u001b[31mValidationError\u001b[39m                           Traceback (most recent call last)",
      "\u001b[36mCell\u001b[39m\u001b[36m \u001b[39m\u001b[32mIn[49]\u001b[39m\u001b[32m, line 3\u001b[39m\n\u001b[32m      1\u001b[39m   \u001b[38;5;66;03m## Invalid instance\u001b[39;00m\n\u001b[32m----> \u001b[39m\u001b[32m3\u001b[39m item2 = \u001b[43mItem\u001b[49m\u001b[43m(\u001b[49m\u001b[43mname\u001b[49m\u001b[43m=\u001b[49m\u001b[33;43m'\u001b[39;49m\u001b[33;43mLaptop\u001b[39;49m\u001b[33;43m'\u001b[39;49m\u001b[43m,\u001b[49m\u001b[43mprice\u001b[49m\u001b[43m=\u001b[49m\u001b[32;43m1200\u001b[39;49m\u001b[43m,\u001b[49m\u001b[43mquantity\u001b[49m\u001b[43m=\u001b[49m\u001b[32;43m10\u001b[39;49m\u001b[43m)\u001b[49m\n\u001b[32m      4\u001b[39m \u001b[38;5;28mprint\u001b[39m(item2)\n",
      "\u001b[36mFile \u001b[39m\u001b[32mc:\\Users\\Ramwani\\Desktop\\Video Tutorials\\venv\\Lib\\site-packages\\pydantic\\main.py:253\u001b[39m, in \u001b[36mBaseModel.__init__\u001b[39m\u001b[34m(self, **data)\u001b[39m\n\u001b[32m    251\u001b[39m \u001b[38;5;66;03m# `__tracebackhide__` tells pytest and some other tools to omit this function from tracebacks\u001b[39;00m\n\u001b[32m    252\u001b[39m __tracebackhide__ = \u001b[38;5;28;01mTrue\u001b[39;00m\n\u001b[32m--> \u001b[39m\u001b[32m253\u001b[39m validated_self = \u001b[38;5;28;43mself\u001b[39;49m\u001b[43m.\u001b[49m\u001b[43m__pydantic_validator__\u001b[49m\u001b[43m.\u001b[49m\u001b[43mvalidate_python\u001b[49m\u001b[43m(\u001b[49m\u001b[43mdata\u001b[49m\u001b[43m,\u001b[49m\u001b[43m \u001b[49m\u001b[43mself_instance\u001b[49m\u001b[43m=\u001b[49m\u001b[38;5;28;43mself\u001b[39;49m\u001b[43m)\u001b[49m\n\u001b[32m    254\u001b[39m \u001b[38;5;28;01mif\u001b[39;00m \u001b[38;5;28mself\u001b[39m \u001b[38;5;129;01mis\u001b[39;00m \u001b[38;5;129;01mnot\u001b[39;00m validated_self:\n\u001b[32m    255\u001b[39m     warnings.warn(\n\u001b[32m    256\u001b[39m         \u001b[33m'\u001b[39m\u001b[33mA custom validator is returning a value other than `self`.\u001b[39m\u001b[38;5;130;01m\\n\u001b[39;00m\u001b[33m'\u001b[39m\n\u001b[32m    257\u001b[39m         \u001b[33m\"\u001b[39m\u001b[33mReturning anything other than `self` from a top level model validator isn\u001b[39m\u001b[33m'\u001b[39m\u001b[33mt supported when validating via `__init__`.\u001b[39m\u001b[38;5;130;01m\\n\u001b[39;00m\u001b[33m\"\u001b[39m\n\u001b[32m    258\u001b[39m         \u001b[33m'\u001b[39m\u001b[33mSee the `model_validator` docs (https://docs.pydantic.dev/latest/concepts/validators/#model-validators) for more details.\u001b[39m\u001b[33m'\u001b[39m,\n\u001b[32m    259\u001b[39m         stacklevel=\u001b[32m2\u001b[39m,\n\u001b[32m    260\u001b[39m     )\n",
      "\u001b[31mValidationError\u001b[39m: 1 validation error for Item\nprice\n  Input should be less than or equal to 1000 [type=less_than_equal, input_value=1200, input_type=int]\n    For further information visit https://errors.pydantic.dev/2.11/v/less_than_equal"
     ]
    }
   ],
   "source": [
    "  ## Invalid instance\n",
    "\n",
    "item2 = Item(name='Laptop',price=1200,quantity=10)\n",
    "print(item2)"
   ]
  },
  {
   "cell_type": "code",
   "execution_count": 51,
   "id": "4fbba0e7",
   "metadata": {},
   "outputs": [],
   "source": [
    "## Fields with Default value\n",
    "\n",
    "\n",
    "class User(BaseModel):\n",
    "    username: str = Field(...,description=\"Unique username\")\n",
    "    email: str = Field(default_factory=lambda:\"user@example.com\",description=\"User email address\")\n",
    "    age: int = Field(default=18,ge=0,description=\"User age,defaults to 18\")\n",
    "\n",
    "\n"
   ]
  },
  {
   "cell_type": "code",
   "execution_count": 54,
   "id": "62baecb8",
   "metadata": {},
   "outputs": [
    {
     "name": "stdout",
     "output_type": "stream",
     "text": [
      "username='Kirtan' email='user@example.com' age=18\n",
      "username='Kirtan' email='ramwanikirtan@gmail.com' age=21\n"
     ]
    }
   ],
   "source": [
    "## Examples\n",
    "user1 = User(username=\"Kirtan\")\n",
    "print(user1) \n",
    "\n",
    "## User with all fields\n",
    "user2 = User(username=\"Kirtan\",email=\"ramwanikirtan@gmail.com\",age=21)\n",
    "print(user2) "
   ]
  },
  {
   "cell_type": "code",
   "execution_count": 55,
   "id": "00e883c5",
   "metadata": {},
   "outputs": [
    {
     "name": "stdout",
     "output_type": "stream",
     "text": [
      "{'properties': {'username': {'description': 'Unique username', 'title': 'Username', 'type': 'string'}, 'email': {'description': 'User email address', 'title': 'Email', 'type': 'string'}, 'age': {'default': 18, 'description': 'User age,defaults to 18', 'minimum': 0, 'title': 'Age', 'type': 'integer'}}, 'required': ['username'], 'title': 'User', 'type': 'object'}\n"
     ]
    }
   ],
   "source": [
    "print(User.model_json_schema())"
   ]
  },
  {
   "cell_type": "code",
   "execution_count": null,
   "id": "abc16b65",
   "metadata": {},
   "outputs": [],
   "source": []
  }
 ],
 "metadata": {
  "kernelspec": {
   "display_name": "Python 3",
   "language": "python",
   "name": "python3"
  },
  "language_info": {
   "codemirror_mode": {
    "name": "ipython",
    "version": 3
   },
   "file_extension": ".py",
   "mimetype": "text/x-python",
   "name": "python",
   "nbconvert_exporter": "python",
   "pygments_lexer": "ipython3",
   "version": "3.12.0"
  }
 },
 "nbformat": 4,
 "nbformat_minor": 5
}
