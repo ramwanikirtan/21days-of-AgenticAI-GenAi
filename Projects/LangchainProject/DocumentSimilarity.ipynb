{
 "cells": [
  {
   "cell_type": "code",
   "execution_count": 21,
   "id": "b6cb5964",
   "metadata": {},
   "outputs": [
    {
     "data": {
      "text/plain": [
       "True"
      ]
     },
     "execution_count": 21,
     "metadata": {},
     "output_type": "execute_result"
    }
   ],
   "source": [
    "from langchain_huggingface import HuggingFaceEmbeddings\n",
    "from dotenv import load_dotenv\n",
    "from sklearn.metrics.pairwise import cosine_similarity\n",
    "import numpy as np\n",
    "load_dotenv()"
   ]
  },
  {
   "cell_type": "code",
   "execution_count": 22,
   "id": "d59f83c1",
   "metadata": {},
   "outputs": [],
   "source": [
    "embedding_model = HuggingFaceEmbeddings(model_name=\"sentence-transformers/all-MiniLM-L6-v2\")"
   ]
  },
  {
   "cell_type": "code",
   "execution_count": 30,
   "id": "20643e4f",
   "metadata": {},
   "outputs": [],
   "source": [
    "document = [\n",
    "    \"Artificial intelligence is transforming industries by automating tasks and providing intelligent insights.\",\n",
    "    \"Machine learning is a subset of artificial intelligence that focuses on algorithms capable of learning from data.\",\n",
    "    \"Data science integrates multiple disciplines to extract valuable insights from data, using techniques like statistics and machine learning.\",\n",
    "    \"Natural language processing allows machines to understand, interpret, and generate human language, which is vital for AI applications like chatbots.\",\n",
    "    \"Deep learning, a subset of machine learning, uses neural networks to model complex patterns and is used in applications such as image recognition and speech processing.\"\n",
    "]\n",
    "docs_vectors = embedding_model.embed_documents(document)"
   ]
  },
  {
   "cell_type": "code",
   "execution_count": null,
   "id": "55f66ebd",
   "metadata": {},
   "outputs": [],
   "source": [
    "query = \"What is machine learning?\"\n",
    "query_vector = embedding_model.embed_query(query)"
   ]
  },
  {
   "cell_type": "code",
   "execution_count": 28,
   "id": "13f55fca",
   "metadata": {},
   "outputs": [],
   "source": [
    "scores = cosine_similarity([query_vector],docs_vectors)[0]\n",
    "index,score = (sorted(list(enumerate(scores)), key=lambda x: x[1])[-1])"
   ]
  },
  {
   "cell_type": "code",
   "execution_count": 27,
   "id": "9685c578",
   "metadata": {},
   "outputs": [
    {
     "name": "stdout",
     "output_type": "stream",
     "text": [
      "Most similar document: Machine learning is a subset of artificial intelligence that focuses on algorithms capable of learning from data. with score 0.813795017167601\n"
     ]
    }
   ],
   "source": [
    "print(f\"Most similar document: {document[index]} with score {score}\")"
   ]
  },
  {
   "cell_type": "code",
   "execution_count": null,
   "id": "260fa244",
   "metadata": {},
   "outputs": [],
   "source": []
  }
 ],
 "metadata": {
  "kernelspec": {
   "display_name": "Python 3",
   "language": "python",
   "name": "python3"
  },
  "language_info": {
   "codemirror_mode": {
    "name": "ipython",
    "version": 3
   },
   "file_extension": ".py",
   "mimetype": "text/x-python",
   "name": "python",
   "nbconvert_exporter": "python",
   "pygments_lexer": "ipython3",
   "version": "3.12.0"
  }
 },
 "nbformat": 4,
 "nbformat_minor": 5
}
