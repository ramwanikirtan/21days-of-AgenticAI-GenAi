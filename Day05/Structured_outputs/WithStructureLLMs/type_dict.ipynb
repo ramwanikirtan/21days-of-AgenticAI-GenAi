{
 "cells": [
  {
   "cell_type": "code",
   "execution_count": 1,
   "id": "b387a48c",
   "metadata": {},
   "outputs": [],
   "source": [
    "from typing import TypedDict"
   ]
  },
  {
   "cell_type": "code",
   "execution_count": 3,
   "id": "2ca34780",
   "metadata": {},
   "outputs": [
    {
     "name": "stdout",
     "output_type": "stream",
     "text": [
      "{'name': 'Kirtan', 'age': 30}\n"
     ]
    }
   ],
   "source": [
    "class Person(TypedDict):\n",
    "    name : str\n",
    "    age : int\n",
    "\n",
    "person1 = Person(name=\"Kirtan\",age = 30)   ## just suggesting not validating\n",
    "print(person1)"
   ]
  },
  {
   "cell_type": "code",
   "execution_count": 4,
   "id": "7b287834",
   "metadata": {},
   "outputs": [
    {
     "name": "stdout",
     "output_type": "stream",
     "text": [
      "{'name': 'Kirtan', 'age': '22'}\n"
     ]
    }
   ],
   "source": [
    "person2 = Person(name=\"Kirtan\",age = \"22\")   ## just suggesting not validating\n",
    "print(person2)     #x no error no validation    "
   ]
  },
  {
   "cell_type": "code",
   "execution_count": null,
   "id": "5ddbaeca",
   "metadata": {},
   "outputs": [
    {
     "ename": "NameError",
     "evalue": "name 'TypedDict' is not defined",
     "output_type": "error",
     "traceback": [
      "\u001b[31m---------------------------------------------------------------------------\u001b[39m",
      "\u001b[31mNameError\u001b[39m                                 Traceback (most recent call last)",
      "\u001b[36mCell\u001b[39m\u001b[36m \u001b[39m\u001b[32mIn[1]\u001b[39m\u001b[32m, line 12\u001b[39m\n\u001b[32m      8\u001b[39m model = ChatOpenAI()\n\u001b[32m     10\u001b[39m \u001b[38;5;66;03m## data schema\u001b[39;00m\n\u001b[32m---> \u001b[39m\u001b[32m12\u001b[39m \u001b[38;5;28;01mclass\u001b[39;00m\u001b[38;5;250m \u001b[39m\u001b[34;01mReview\u001b[39;00m(\u001b[43mTypedDict\u001b[49m):\n\u001b[32m     13\u001b[39m     summary: \u001b[38;5;28mstr\u001b[39m\n\u001b[32m     14\u001b[39m     sentiment: \u001b[38;5;28mstr\u001b[39m\n",
      "\u001b[31mNameError\u001b[39m: name 'TypedDict' is not defined"
     ]
    }
   ],
   "source": [
    "#### demo of TypedDict with structured output\n",
    "\n",
    "from langchain_openai import ChatOpenAI\n",
    "from dotenv import load_dotenv\n",
    "load_dotenv()\n",
    "from typing import TypedDict\n",
    "\n",
    "\n",
    "model = ChatOpenAI()\n",
    "\n",
    "## data schema\n",
    "\n",
    "class Review(TypedDict):\n",
    "    summary: str\n",
    "    sentiment: str\n",
    "\n",
    "structured_model = model.with_structured_output(Review)\n",
    "\n",
    "\n",
    "result = structured_model.invoke(\"I recently had the opportunity to work on the XYZ Hardware Project, and I have to say, the experience was both rewarding and frustrating in equal measure. As a hands-on enthusiast, diving into this project gave me a fresh perspective on hardware design and implementation.\")\n",
    "\n",
    "print(result)"
   ]
  },
  {
   "cell_type": "code",
   "execution_count": null,
   "id": "1ecca649",
   "metadata": {},
   "outputs": [],
   "source": []
  }
 ],
 "metadata": {
  "kernelspec": {
   "display_name": "Python 3",
   "language": "python",
   "name": "python3"
  },
  "language_info": {
   "codemirror_mode": {
    "name": "ipython",
    "version": 3
   },
   "file_extension": ".py",
   "mimetype": "text/x-python",
   "name": "python",
   "nbconvert_exporter": "python",
   "pygments_lexer": "ipython3",
   "version": "3.12.0"
  }
 },
 "nbformat": 4,
 "nbformat_minor": 5
}
