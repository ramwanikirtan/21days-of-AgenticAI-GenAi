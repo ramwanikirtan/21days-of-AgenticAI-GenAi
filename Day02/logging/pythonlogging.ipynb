{
 "cells": [
  {
   "cell_type": "markdown",
   "id": "446861bd",
   "metadata": {},
   "source": [
    "# Python logging\n",
    "\n",
    "Python's logging module provides a flexible framework to record program events (messages) with severity levels, timestamps, and contextual information. It's the standard replacement for print-based debugging and supports writing logs to console, files, syslog, and other destinations.\n",
    "\n",
    "Key concepts\n",
    "- Logger: named entry point used by application code (e.g., logging.getLogger(__name__)).\n",
    "- Handler: decides where logs go (StreamHandler, FileHandler, RotatingFileHandler, etc.).\n",
    "- Formatter: controls log message format (timestamp, level, module, message).\n",
    "- Level: severity thresholds (DEBUG, INFO, WARNING, ERROR, CRITICAL).\n",
    "- Filter: optional, fine-grained control over which records are emitted.\n"
   ]
  },
  {
   "cell_type": "code",
   "execution_count": 2,
   "id": "05e72c7f",
   "metadata": {},
   "outputs": [
    {
     "name": "stderr",
     "output_type": "stream",
     "text": [
      "DEBUG:root:This is a debug message\n",
      "INFO:root:this is info message\n",
      "WARNING:root:this is warning message\n",
      "ERROR:root:this is error message\n",
      "CRITICAL:root:this is critical message\n"
     ]
    }
   ],
   "source": [
    "import logging\n",
    "\n",
    "## configure the basic settings\n",
    "\n",
    "logging.basicConfig(level=logging.DEBUG)\n",
    "\n",
    "## log messages with different severity messages\n",
    "\n",
    "logging.debug(\"This is a debug message\")\n",
    "logging.info(\"this is info message\")\n",
    "logging.warning(\"this is warning message\")\n",
    "logging.error(\"this is error message\")\n",
    "logging.critical(\"this is critical message\")"
   ]
  },
  {
   "cell_type": "markdown",
   "id": "5e6021dc",
   "metadata": {},
   "source": [
    "### Log levels \n",
    "\n",
    "- DEBUG  \n",
    "    - Definition: Detailed diagnostic information, useful for development and troubleshooting.  \n",
    "    - Example: `logging.debug(\"Loaded config: %s\", config)`\n",
    "\n",
    "- INFO  \n",
    "    - Definition: Confirmation that things are working as expected; high-level runtime events.  \n",
    "    - Example: `logging.info(\"Started scheduled job 'cleanup'\")`\n",
    "\n",
    "- WARNING  \n",
    "    - Definition: An indication of a potential problem or important situation that doesn't stop execution.  \n",
    "    - Example: `logging.warning(\"Disk usage at 85%\")`\n",
    "\n",
    "- ERROR  \n",
    "    - Definition: A more serious problem that prevented a function or operation from completing.  \n",
    "    - Example: `logging.error(\"Failed to save user %s: %s\", user_id, exc)`\n",
    "\n",
    "- CRITICAL  \n",
    "    - Definition: A severe error indicating the program may be unable to continue running.  \n",
    "    - Example: `logging.critical(\"Out of memory — terminating service\")`"
   ]
  },
  {
   "cell_type": "code",
   "execution_count": 2,
   "id": "720279d8",
   "metadata": {},
   "outputs": [],
   "source": [
    "## configure logging to a file\n",
    "import logging\n",
    "\n",
    "logging.basicConfig(\n",
    "    filename='app.log',\n",
    "    filemode='w',\n",
    "    level=logging.DEBUG,\n",
    "    format='%(asctime)s-%(name)s-%(levelname)s-%(message)s',\n",
    "    datefmt='%Y-%m-%d %H:%M:%S'\n",
    ")\n",
    "\n",
    "## log messages with different severity messages\n",
    "\n",
    "logging.debug(\"This is a debug message\")\n",
    "logging.info(\"this is info message\")\n",
    "logging.warning(\"this is warning message\")\n",
    "logging.error(\"this is error message\")\n",
    "logging.critical(\"this is critical message\")\n"
   ]
  },
  {
   "cell_type": "code",
   "execution_count": 4,
   "id": "74c5aae5",
   "metadata": {},
   "outputs": [],
   "source": [
    "## log messages with different severity messages\n",
    "\n",
    "logging.debug(\"This is a debug message\")\n",
    "logging.info(\"this is info message\")\n",
    "logging.warning(\"this is warning message\")\n",
    "logging.error(\"this is error message\")\n",
    "logging.critical(\"this is critical message\")"
   ]
  },
  {
   "cell_type": "code",
   "execution_count": null,
   "id": "8b0d98c1",
   "metadata": {},
   "outputs": [],
   "source": []
  }
 ],
 "metadata": {
  "kernelspec": {
   "display_name": ".venv",
   "language": "python",
   "name": "python3"
  },
  "language_info": {
   "codemirror_mode": {
    "name": "ipython",
    "version": 3
   },
   "file_extension": ".py",
   "mimetype": "text/x-python",
   "name": "python",
   "nbconvert_exporter": "python",
   "pygments_lexer": "ipython3",
   "version": "3.12.6"
  }
 },
 "nbformat": 4,
 "nbformat_minor": 5
}
