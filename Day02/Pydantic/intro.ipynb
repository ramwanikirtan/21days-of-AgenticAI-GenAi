{
 "cells": [
  {
   "cell_type": "markdown",
   "id": "d86b3a14",
   "metadata": {},
   "source": [
    "## Pydantic Basics: Creating and Using Models\n",
    "\n",
    "Pydantic models are Foundations of Data Validation in Python.\n",
    "- Uses python Type Annotation to define the structure and validate data at runtime.\n"
   ]
  },
  {
   "cell_type": "code",
   "execution_count": 2,
   "id": "db751a1d",
   "metadata": {},
   "outputs": [],
   "source": [
    "from pydantic import BaseModel"
   ]
  },
  {
   "cell_type": "code",
   "execution_count": 57,
   "id": "6cb1cfb4",
   "metadata": {},
   "outputs": [
    {
     "name": "stdout",
     "output_type": "stream",
     "text": [
      "Person(name='Kirtan', age=21, city='Debrecen', country='Hungary')\n"
     ]
    },
    {
     "data": {
      "text/plain": [
       "__main__.Person"
      ]
     },
     "execution_count": 57,
     "metadata": {},
     "output_type": "execute_result"
    }
   ],
   "source": [
    "from dataclasses import dataclass\n",
    "\n",
    "@dataclass\n",
    "class Person():\n",
    "    name :str\n",
    "    age:int\n",
    "    city:str\n",
    "    country:str\n",
    "\n",
    "\n",
    "person1 = Person(name=\"Kirtan\",age=21,city=\"Debrecen\",country=\"Hungary\")\n",
    "\n",
    "print(person1)\n",
    "type(person1)\n"
   ]
  },
  {
   "cell_type": "code",
   "execution_count": 58,
   "id": "a575fd3b",
   "metadata": {},
   "outputs": [
    {
     "name": "stdout",
     "output_type": "stream",
     "text": [
      "Person(name='Ramwani', age='25', city='debrecen', country=36)\n"
     ]
    }
   ],
   "source": [
    "person2 = Person(name=\"Ramwani\",age=\"25\",city=\"debrecen\",country=+36)   ## dataclass models no  validation error\n",
    "print(person2)"
   ]
  },
  {
   "cell_type": "code",
   "execution_count": 59,
   "id": "1ee15f31",
   "metadata": {},
   "outputs": [
    {
     "name": "stdout",
     "output_type": "stream",
     "text": [
      "name='Kirtan' age=21 city='Debrecen' country='Hungary'\n"
     ]
    },
    {
     "data": {
      "text/plain": [
       "__main__.Person"
      ]
     },
     "execution_count": 59,
     "metadata": {},
     "output_type": "execute_result"
    }
   ],
   "source": [
    "class Person(BaseModel):\n",
    "    name :str\n",
    "    age:int\n",
    "    city:str\n",
    "    country:str\n",
    "\n",
    "\n",
    "person1 = Person(name=\"Kirtan\",age=21,city=\"Debrecen\",country=\"Hungary\")\n",
    "\n",
    "print(person1)\n",
    "type(person1)"
   ]
  },
  {
   "cell_type": "code",
   "execution_count": 60,
   "id": "bd66a409",
   "metadata": {},
   "outputs": [
    {
     "ename": "ValidationError",
     "evalue": "1 validation error for Person\ncountry\n  Input should be a valid string [type=string_type, input_value=36, input_type=int]\n    For further information visit https://errors.pydantic.dev/2.11/v/string_type",
     "output_type": "error",
     "traceback": [
      "\u001b[31m---------------------------------------------------------------------------\u001b[39m",
      "\u001b[31mValidationError\u001b[39m                           Traceback (most recent call last)",
      "\u001b[36mCell\u001b[39m\u001b[36m \u001b[39m\u001b[32mIn[60]\u001b[39m\u001b[32m, line 1\u001b[39m\n\u001b[32m----> \u001b[39m\u001b[32m1\u001b[39m person2 = \u001b[43mPerson\u001b[49m\u001b[43m(\u001b[49m\u001b[43mname\u001b[49m\u001b[43m=\u001b[49m\u001b[33;43m\"\u001b[39;49m\u001b[33;43mRamwani\u001b[39;49m\u001b[33;43m\"\u001b[39;49m\u001b[43m,\u001b[49m\u001b[43mage\u001b[49m\u001b[43m=\u001b[49m\u001b[33;43m\"\u001b[39;49m\u001b[33;43m25\u001b[39;49m\u001b[33;43m\"\u001b[39;49m\u001b[43m,\u001b[49m\u001b[43mcity\u001b[49m\u001b[43m=\u001b[49m\u001b[33;43m\"\u001b[39;49m\u001b[33;43mdebrecen\u001b[39;49m\u001b[33;43m\"\u001b[39;49m\u001b[43m,\u001b[49m\u001b[43mcountry\u001b[49m\u001b[43m=\u001b[49m\u001b[43m+\u001b[49m\u001b[32;43m36\u001b[39;49m\u001b[43m)\u001b[49m   \u001b[38;5;66;03m## base models validation error\u001b[39;00m\n",
      "\u001b[36mFile \u001b[39m\u001b[32mc:\\Users\\Ramwani\\Desktop\\Video Tutorials\\venv\\Lib\\site-packages\\pydantic\\main.py:253\u001b[39m, in \u001b[36mBaseModel.__init__\u001b[39m\u001b[34m(self, **data)\u001b[39m\n\u001b[32m    251\u001b[39m \u001b[38;5;66;03m# `__tracebackhide__` tells pytest and some other tools to omit this function from tracebacks\u001b[39;00m\n\u001b[32m    252\u001b[39m __tracebackhide__ = \u001b[38;5;28;01mTrue\u001b[39;00m\n\u001b[32m--> \u001b[39m\u001b[32m253\u001b[39m validated_self = \u001b[38;5;28;43mself\u001b[39;49m\u001b[43m.\u001b[49m\u001b[43m__pydantic_validator__\u001b[49m\u001b[43m.\u001b[49m\u001b[43mvalidate_python\u001b[49m\u001b[43m(\u001b[49m\u001b[43mdata\u001b[49m\u001b[43m,\u001b[49m\u001b[43m \u001b[49m\u001b[43mself_instance\u001b[49m\u001b[43m=\u001b[49m\u001b[38;5;28;43mself\u001b[39;49m\u001b[43m)\u001b[49m\n\u001b[32m    254\u001b[39m \u001b[38;5;28;01mif\u001b[39;00m \u001b[38;5;28mself\u001b[39m \u001b[38;5;129;01mis\u001b[39;00m \u001b[38;5;129;01mnot\u001b[39;00m validated_self:\n\u001b[32m    255\u001b[39m     warnings.warn(\n\u001b[32m    256\u001b[39m         \u001b[33m'\u001b[39m\u001b[33mA custom validator is returning a value other than `self`.\u001b[39m\u001b[38;5;130;01m\\n\u001b[39;00m\u001b[33m'\u001b[39m\n\u001b[32m    257\u001b[39m         \u001b[33m\"\u001b[39m\u001b[33mReturning anything other than `self` from a top level model validator isn\u001b[39m\u001b[33m'\u001b[39m\u001b[33mt supported when validating via `__init__`.\u001b[39m\u001b[38;5;130;01m\\n\u001b[39;00m\u001b[33m\"\u001b[39m\n\u001b[32m    258\u001b[39m         \u001b[33m'\u001b[39m\u001b[33mSee the `model_validator` docs (https://docs.pydantic.dev/latest/concepts/validators/#model-validators) for more details.\u001b[39m\u001b[33m'\u001b[39m,\n\u001b[32m    259\u001b[39m         stacklevel=\u001b[32m2\u001b[39m,\n\u001b[32m    260\u001b[39m     )\n",
      "\u001b[31mValidationError\u001b[39m: 1 validation error for Person\ncountry\n  Input should be a valid string [type=string_type, input_value=36, input_type=int]\n    For further information visit https://errors.pydantic.dev/2.11/v/string_type"
     ]
    }
   ],
   "source": [
    "person2 = Person(name=\"Ramwani\",age=\"25\",city=\"debrecen\",country=+36)   ## base models validation error\n"
   ]
  },
  {
   "cell_type": "code",
   "execution_count": 78,
   "id": "d81aecfd",
   "metadata": {},
   "outputs": [
    {
     "name": "stdout",
     "output_type": "stream",
     "text": [
      "name='kirtan' age=30\n"
     ]
    }
   ],
   "source": [
    "## also with dictionary\n",
    "\n",
    "class Patient(BaseModel):\n",
    "    name:str\n",
    "    age:int\n",
    "\n",
    "\n",
    "patient1_info = {\"name\":\"kirtan\",\"age\":30}\n",
    "\n",
    "patient1 = Patient(**patient1_info) ## unpacking the dictionary\n",
    "\n",
    "print(patient1)"
   ]
  },
  {
   "cell_type": "markdown",
   "id": "58408802",
   "metadata": {},
   "source": [
    "## Bit compllex models"
   ]
  },
  {
   "cell_type": "code",
   "execution_count": 5,
   "id": "ff06ebfa",
   "metadata": {},
   "outputs": [
    {
     "name": "stdout",
     "output_type": "stream",
     "text": [
      "name='kirtan' email='ramwanikirtan@gmail.com' linkedin_url=AnyUrl('https://www.linkedin.com/in/kirtan-ramwani-3b65a8231/') age=21 weight=70.5 married=False allergies=['Lactose', 'Gluten', 'pollen']\n"
     ]
    }
   ],
   "source": [
    "from pydantic import BaseModel,EmailStr,AnyUrl\n",
    "from typing import List, Dict\n",
    "\n",
    "class Patient(BaseModel):\n",
    "    name:str\n",
    "    email:EmailStr\n",
    "    linkedin_url:AnyUrl\n",
    "    age:int\n",
    "    weight:float\n",
    "    married:bool\n",
    "    allergies:List[str] \n",
    "    \n",
    "\n",
    "\n",
    "# Q. why we imported List but not use list :\n",
    "# Reason: because of two level validations, \n",
    "# means first we are validating that allergies itself should be list \n",
    "# then secondly validate that inside it should be a list\n",
    "\n",
    "\n",
    "patient1_info ={\n",
    "    \"name\":\"kirtan\",\n",
    "    'email':'ramwanikirtan@gmail.com',\n",
    "    'linkedin_url':'https://www.linkedin.com/in/kirtan-ramwani-3b65a8231/',\n",
    "    \"age\":21,\n",
    "    \"weight\":70.5,\n",
    "    \"married\":False,\n",
    "    \"allergies\":['Lactose','Gluten','pollen']\n",
    "   \n",
    "}\n",
    "\n",
    "patient1 = Patient(**patient1_info)\n",
    "print(patient1)\n"
   ]
  },
  {
   "cell_type": "markdown",
   "id": "aacb9b0b",
   "metadata": {},
   "source": [
    "## 2- Models with Optional fields\n",
    "By default all fields in pydantic are Required, if skipped throws validation error.\n",
    "- Add optional fields using Pythons's optional type - pydantic usecase"
   ]
  },
  {
   "cell_type": "code",
   "execution_count": null,
   "id": "fc9d0df2",
   "metadata": {},
   "outputs": [],
   "source": [
    "from typing import Optional\n",
    "class Employee(BaseModel):\n",
    "    id:int\n",
    "    name:str\n",
    "    department:str\n",
    "    salary:Optional[float] = None   # Optional with default value None\n",
    "    is_active:Optional[bool] = True # Optional with default value True\n",
    "\n",
    "\n",
    "Employee1= Employee "
   ]
  },
  {
   "cell_type": "code",
   "execution_count": 62,
   "id": "209e2461",
   "metadata": {},
   "outputs": [
    {
     "name": "stdout",
     "output_type": "stream",
     "text": [
      "id=1 name='Kirtan' department='IT' salary=None is_active=True\n"
     ]
    }
   ],
   "source": [
    "# Examples without optional value\n",
    "employee1= Employee(id=1,name=\"Kirtan\",department=\"IT\")\n",
    "print(employee1)"
   ]
  },
  {
   "cell_type": "code",
   "execution_count": 63,
   "id": "06b6a4a1",
   "metadata": {},
   "outputs": [
    {
     "name": "stdout",
     "output_type": "stream",
     "text": [
      "id=2 name='Ramwani' department='Finance' salary=60000.0 is_active=False\n"
     ]
    }
   ],
   "source": [
    "# Examples with optional value\n",
    "employee2= Employee(id=2,name=\"Ramwani\",department=\"Finance\",salary=60000.00,is_active=False)\n",
    "print(employee2)"
   ]
  },
  {
   "cell_type": "code",
   "execution_count": 64,
   "id": "3a1a7a6c",
   "metadata": {},
   "outputs": [
    {
     "name": "stdout",
     "output_type": "stream",
     "text": [
      "id=2 name='Ramwani' department='Finance' salary=60000.0 is_active=False\n"
     ]
    }
   ],
   "source": [
    "employee3= Employee(id=2,name=\"Ramwani\",department=\"Finance\",salary=60000,is_active=False) ## automatic type casting\n",
    "print(employee3)"
   ]
  },
  {
   "cell_type": "code",
   "execution_count": 65,
   "id": "516f5c90",
   "metadata": {},
   "outputs": [],
   "source": [
    "from pydantic import BaseModel\n",
    "from typing import List\n",
    "\n",
    "\n",
    "class Classroom(BaseModel):\n",
    "    room_number:str\n",
    "    students:List[str]  ## list of strings i-e student names\n",
    "    capacity:int\n"
   ]
  },
  {
   "cell_type": "code",
   "execution_count": 66,
   "id": "5143b5fc",
   "metadata": {},
   "outputs": [
    {
     "name": "stdout",
     "output_type": "stream",
     "text": [
      "room_number='A101' students=['Alice', 'Bob', 'Charlie'] capacity=30\n"
     ]
    }
   ],
   "source": [
    "# create classroom\n",
    "classroom1 = Classroom(\n",
    "    room_number = \"A101\",\n",
    "    students=['Alice','Bob','Charlie'],\n",
    "    capacity=30\n",
    "\n",
    ")\n",
    "\n",
    "print(classroom1)"
   ]
  },
  {
   "cell_type": "code",
   "execution_count": 67,
   "id": "94e7c16d",
   "metadata": {},
   "outputs": [
    {
     "name": "stdout",
     "output_type": "stream",
     "text": [
      "room_number='A101' students=['Alice', 'Bob', 'Charlie'] capacity=30\n"
     ]
    }
   ],
   "source": [
    "classroom2 = Classroom(\n",
    "    room_number = \"A101\",\n",
    "    students=('Alice','Bob','Charlie'),  # typecasting of list to tuple\n",
    "    capacity=30\n",
    "\n",
    ")\n",
    "\n",
    "print(classroom2)"
   ]
  },
  {
   "cell_type": "code",
   "execution_count": 68,
   "id": "0e9e371a",
   "metadata": {},
   "outputs": [
    {
     "name": "stdout",
     "output_type": "stream",
     "text": [
      "Error: 3 validation errors for Classroom\n",
      "students.0\n",
      "  Input should be a valid string [type=string_type, input_value=1, input_type=int]\n",
      "    For further information visit https://errors.pydantic.dev/2.11/v/string_type\n",
      "students.1\n",
      "  Input should be a valid string [type=string_type, input_value=2, input_type=int]\n",
      "    For further information visit https://errors.pydantic.dev/2.11/v/string_type\n",
      "students.2\n",
      "  Input should be a valid string [type=string_type, input_value=3, input_type=int]\n",
      "    For further information visit https://errors.pydantic.dev/2.11/v/string_type\n"
     ]
    }
   ],
   "source": [
    "try:   \n",
    "    classroom3 = Classroom(room_number=\"A102\",students=(1,2,3),capacity=30)\n",
    "    print(classroom3)\n",
    "except ValueError as e:\n",
    "    print(\"Error:\" , e)\n",
    "\n"
   ]
  },
  {
   "cell_type": "markdown",
   "id": "f642b581",
   "metadata": {},
   "source": [
    "### 4. Model with nested models\n",
    "\n",
    "Creating complex struucture with nested models\n"
   ]
  },
  {
   "cell_type": "code",
   "execution_count": null,
   "id": "86c2b48d",
   "metadata": {},
   "outputs": [
    {
     "name": "stdout",
     "output_type": "stream",
     "text": [
      "name='John Doe' gender='Male' age=30 address=Address(street_no=123, city='New York', state='NY', zip=10001)\n"
     ]
    }
   ],
   "source": [
    "from pydantic import BaseModel\n",
    "\n",
    "class Address(BaseModel):\n",
    "    street_no: int\n",
    "    city: str\n",
    "    state: str\n",
    "    zip: int\n",
    "\n",
    "class Patient(BaseModel):\n",
    "    name: str\n",
    "    gender:str\n",
    "    age: int\n",
    "    address: Address\n",
    "\n",
    "\n",
    "patient1_info = {\n",
    "    \"name\": \"John Doe\",\n",
    "    \"gender\": \"Male\",\n",
    "    \"age\": 30,\n",
    "    \"address\": {\n",
    "        \"street_no\": 123,\n",
    "        \"city\": \"New York\",\n",
    "        \"state\": \"NY\",\n",
    "        \"zip\": 10001\n",
    "    }\n",
    "}\n",
    "\n",
    "patient1 = Patient(**patient1_info)\n",
    "print(patient1)\n",
    "\n",
    "\n",
    "\n",
    "## benefits of nested models:\n",
    "\n",
    "# 1. Improved data organization: Nested models allow for a more structured representation of complex data, making it easier to understand and manage.\n",
    "# 2. Reusability: Nested models can be reused across different parent models, promoting DRY (Don't Repeat Yourself) principles.\n",
    "# 3. Validation: Pydantic will automatically validate the nested models, ensuring that the data adheres to the defined schema.\n",
    "# 4. Improved maintainability: Changes to the nested model can be made in one place, and those changes will be reflected wherever the model is used.\n"
   ]
  },
  {
   "cell_type": "code",
   "execution_count": 69,
   "id": "8bd604f9",
   "metadata": {},
   "outputs": [],
   "source": [
    "from pydantic import BaseModel\n",
    "\n",
    "class Address(BaseModel):\n",
    "    street:str\n",
    "    city:str\n",
    "    zip_code:int\n",
    "\n",
    "class Customer(BaseModel):\n",
    "    customer_id : int\n",
    "    name : str\n",
    "    email :str\n",
    "    address : Address # nested model\n"
   ]
  },
  {
   "cell_type": "code",
   "execution_count": 70,
   "id": "44c38e4c",
   "metadata": {},
   "outputs": [
    {
     "name": "stdout",
     "output_type": "stream",
     "text": [
      "customer_id=1 name='Kirtan' email='ramwanikirtan@gmail.com' address=Address(street='123 Main st', city='Debrecen', zip_code=4029)\n"
     ]
    }
   ],
   "source": [
    "## create a customer with nested address \n",
    "\n",
    "customer1 = Customer(\n",
    "    customer_id=1,\n",
    "    name=\"Kirtan\",\n",
    "    email=\"ramwanikirtan@gmail.com\",\n",
    "    address={\n",
    "        \"street\" :\"123 Main st\",\n",
    "        \"city\" :'Debrecen',\n",
    "        \"zip_code\":\"4029\"  ## type casted\n",
    "    }\n",
    "\n",
    ")\n",
    "\n",
    "print(customer1)"
   ]
  },
  {
   "cell_type": "markdown",
   "id": "53ece6a1",
   "metadata": {},
   "source": [
    "## Pydantic fields : Customization and constraints\n",
    "\n",
    "The field function in pydantic enhances model fields beyond basic type hints by allowing you to specify validation rules,default values,aliases and more.\n"
   ]
  },
  {
   "cell_type": "code",
   "execution_count": 71,
   "id": "ea99a9ca",
   "metadata": {},
   "outputs": [],
   "source": [
    "from pydantic import BaseModel,Field\n",
    "\n",
    "class Item(BaseModel):\n",
    "    name:str= Field(min_length=3,max_length=50)\n",
    "    price:float= Field(gt=0,le=1000) ## greater than 0 and less than or equal to 1000\n",
    "    quantity:int= Field(ge=0)  ## greater than or equal to 0\n"
   ]
  },
  {
   "cell_type": "code",
   "execution_count": 72,
   "id": "afe9c0cc",
   "metadata": {},
   "outputs": [
    {
     "name": "stdout",
     "output_type": "stream",
     "text": [
      "name='Laptop' price=650.0 quantity=10\n"
     ]
    }
   ],
   "source": [
    " ## valid instance\n",
    "\n",
    "item1 = Item(name='Laptop',price=650,quantity=10)\n",
    "print(item1)"
   ]
  },
  {
   "cell_type": "code",
   "execution_count": 73,
   "id": "d38a2b43",
   "metadata": {},
   "outputs": [
    {
     "ename": "ValidationError",
     "evalue": "1 validation error for Item\nprice\n  Input should be less than or equal to 1000 [type=less_than_equal, input_value=1200, input_type=int]\n    For further information visit https://errors.pydantic.dev/2.11/v/less_than_equal",
     "output_type": "error",
     "traceback": [
      "\u001b[31m---------------------------------------------------------------------------\u001b[39m",
      "\u001b[31mValidationError\u001b[39m                           Traceback (most recent call last)",
      "\u001b[36mCell\u001b[39m\u001b[36m \u001b[39m\u001b[32mIn[73]\u001b[39m\u001b[32m, line 3\u001b[39m\n\u001b[32m      1\u001b[39m   \u001b[38;5;66;03m## Invalid instance\u001b[39;00m\n\u001b[32m----> \u001b[39m\u001b[32m3\u001b[39m item2 = \u001b[43mItem\u001b[49m\u001b[43m(\u001b[49m\u001b[43mname\u001b[49m\u001b[43m=\u001b[49m\u001b[33;43m'\u001b[39;49m\u001b[33;43mLaptop\u001b[39;49m\u001b[33;43m'\u001b[39;49m\u001b[43m,\u001b[49m\u001b[43mprice\u001b[49m\u001b[43m=\u001b[49m\u001b[32;43m1200\u001b[39;49m\u001b[43m,\u001b[49m\u001b[43mquantity\u001b[49m\u001b[43m=\u001b[49m\u001b[32;43m10\u001b[39;49m\u001b[43m)\u001b[49m\n\u001b[32m      4\u001b[39m \u001b[38;5;28mprint\u001b[39m(item2)\n",
      "\u001b[36mFile \u001b[39m\u001b[32mc:\\Users\\Ramwani\\Desktop\\Video Tutorials\\venv\\Lib\\site-packages\\pydantic\\main.py:253\u001b[39m, in \u001b[36mBaseModel.__init__\u001b[39m\u001b[34m(self, **data)\u001b[39m\n\u001b[32m    251\u001b[39m \u001b[38;5;66;03m# `__tracebackhide__` tells pytest and some other tools to omit this function from tracebacks\u001b[39;00m\n\u001b[32m    252\u001b[39m __tracebackhide__ = \u001b[38;5;28;01mTrue\u001b[39;00m\n\u001b[32m--> \u001b[39m\u001b[32m253\u001b[39m validated_self = \u001b[38;5;28;43mself\u001b[39;49m\u001b[43m.\u001b[49m\u001b[43m__pydantic_validator__\u001b[49m\u001b[43m.\u001b[49m\u001b[43mvalidate_python\u001b[49m\u001b[43m(\u001b[49m\u001b[43mdata\u001b[49m\u001b[43m,\u001b[49m\u001b[43m \u001b[49m\u001b[43mself_instance\u001b[49m\u001b[43m=\u001b[49m\u001b[38;5;28;43mself\u001b[39;49m\u001b[43m)\u001b[49m\n\u001b[32m    254\u001b[39m \u001b[38;5;28;01mif\u001b[39;00m \u001b[38;5;28mself\u001b[39m \u001b[38;5;129;01mis\u001b[39;00m \u001b[38;5;129;01mnot\u001b[39;00m validated_self:\n\u001b[32m    255\u001b[39m     warnings.warn(\n\u001b[32m    256\u001b[39m         \u001b[33m'\u001b[39m\u001b[33mA custom validator is returning a value other than `self`.\u001b[39m\u001b[38;5;130;01m\\n\u001b[39;00m\u001b[33m'\u001b[39m\n\u001b[32m    257\u001b[39m         \u001b[33m\"\u001b[39m\u001b[33mReturning anything other than `self` from a top level model validator isn\u001b[39m\u001b[33m'\u001b[39m\u001b[33mt supported when validating via `__init__`.\u001b[39m\u001b[38;5;130;01m\\n\u001b[39;00m\u001b[33m\"\u001b[39m\n\u001b[32m    258\u001b[39m         \u001b[33m'\u001b[39m\u001b[33mSee the `model_validator` docs (https://docs.pydantic.dev/latest/concepts/validators/#model-validators) for more details.\u001b[39m\u001b[33m'\u001b[39m,\n\u001b[32m    259\u001b[39m         stacklevel=\u001b[32m2\u001b[39m,\n\u001b[32m    260\u001b[39m     )\n",
      "\u001b[31mValidationError\u001b[39m: 1 validation error for Item\nprice\n  Input should be less than or equal to 1000 [type=less_than_equal, input_value=1200, input_type=int]\n    For further information visit https://errors.pydantic.dev/2.11/v/less_than_equal"
     ]
    }
   ],
   "source": [
    "  ## Invalid instance\n",
    "\n",
    "item2 = Item(name='Laptop',price=1200,quantity=10)\n",
    "print(item2)"
   ]
  },
  {
   "cell_type": "code",
   "execution_count": null,
   "id": "80329eb7",
   "metadata": {},
   "outputs": [
    {
     "name": "stdout",
     "output_type": "stream",
     "text": [
      "name='kirtan' email='ramwanikirtan@gmail.com' linkedin_url=AnyUrl('https://www.linkedin.com/in/kirtan-ramwani-3b65a8231/') age=21 weight=70.5 married=False allergies=['Lactose', 'Gluten', 'pollen']\n"
     ]
    }
   ],
   "source": [
    "from pydantic import BaseModel,EmailStr,AnyUrl,Field\n",
    "from typing import List, Dict,Annotated  \n",
    "\n",
    "## Annotated + Field =  metadata for docs\n",
    "\n",
    "class Patient(BaseModel):\n",
    "    name:Annotated[str,Field(max_length=50,title=\"Patient Name\", Description= \"write here the name of the patient in less than 50 chars\",examples=['kirtan','othman'])]\n",
    "    email:EmailStr\n",
    "    linkedin_url:AnyUrl\n",
    "    age:int\n",
    "    weight:Annotated[float,Field(gt=0,strict=True)] ## strict = True means that the value must be exactly of type float , typecasting not allowed\n",
    "    married:Annotated[bool,Field(default=None,description=\"Marital status of our patient\")]\n",
    "    allergies:List[str] = Field(max_length=5)\n",
    "    \n",
    "\n",
    "patient1_info ={\n",
    "    \"name\":\"kirtan\",\n",
    "    'email':'ramwanikirtan@gmail.com',\n",
    "    'linkedin_url':'https://www.linkedin.com/in/kirtan-ramwani-3b65a8231/',\n",
    "    \"age\":21,\n",
    "    \"weight\":70.5,\n",
    "    \"married\":False,\n",
    "    \"allergies\":['Lactose','Gluten','pollen']\n",
    "   \n",
    "}\n",
    "\n",
    "patient1 = Patient(**patient1_info)\n",
    "print(patient1)\n",
    "\n",
    "\n",
    "\n",
    "## validation and documentation using pydantic"
   ]
  },
  {
   "cell_type": "markdown",
   "id": "76e6d667",
   "metadata": {},
   "source": [
    "## Field Validator \n",
    " - Specific / custom data validation\n",
    " - Specific / custom data Transformation\n",
    " "
   ]
  },
  {
   "cell_type": "code",
   "execution_count": 13,
   "id": "695e9599",
   "metadata": {},
   "outputs": [
    {
     "name": "stdout",
     "output_type": "stream",
     "text": [
      "name='KIRTAN' email='kirtankirtan@mailbox.unideb.hu' linkedin_url=AnyUrl('https://www.linkedin.com/in/kirtan-ramwani-3b65a8231/') age=21 weight=70.5 married=False allergies=['Lactose', 'Gluten', 'pollen']\n"
     ]
    }
   ],
   "source": [
    "from pydantic import BaseModel,EmailStr,AnyUrl,Field,field_validator\n",
    "from typing import List, Dict,Annotated  \n",
    "\n",
    "## Annotated + Field =  metadata for docs\n",
    "\n",
    "class Patient(BaseModel):\n",
    "    name:str\n",
    "    email:EmailStr\n",
    "    linkedin_url:AnyUrl\n",
    "    age:int\n",
    "    weight:float \n",
    "    married:bool\n",
    "    allergies:List[str] \n",
    "\n",
    "\n",
    "    ## custom validaton using decorator method\n",
    "\n",
    "#method 1 to validate the emails from @mailbox.unideb.hu domain only\n",
    "\n",
    "\n",
    "    @field_validator('email')\n",
    "    @classmethod\n",
    "    def email_validator(cls,email_value):\n",
    "        if not '@mailbox.unideb.hu' in email_value:\n",
    "            raise ValueError(\"Email must be from mailbox.unideb.hu domain\")\n",
    "        return email_value\n",
    "        \n",
    "\n",
    "# method 2 to transform the name in capitalize letters\n",
    "    @field_validator('name')\n",
    "    @classmethod\n",
    "    def capitalize_name(cls,name):\n",
    "        return name.upper()\n",
    "\n",
    "\n",
    "patient1_info ={\n",
    "    \"name\":\"kirtan\",\n",
    "    'email':'kirtankirtan@mailbox.unideb.hu',\n",
    "    'linkedin_url':'https://www.linkedin.com/in/kirtan-ramwani-3b65a8231/',\n",
    "    \"age\":21,\n",
    "    \"weight\":70.5,\n",
    "    \"married\":False,\n",
    "    \"allergies\":['Lactose','Gluten','pollen']\n",
    "   \n",
    "}\n",
    "\n",
    "patient1 = Patient(**patient1_info)\n",
    "print(patient1)\n",
    "\n",
    "\n",
    "\n",
    "## validation and documentation using pydantic"
   ]
  },
  {
   "cell_type": "markdown",
   "id": "159abaaa",
   "metadata": {},
   "source": [
    "# Before and after modes of field validator\n",
    "\n"
   ]
  },
  {
   "cell_type": "code",
   "execution_count": null,
   "id": "b18d2eba",
   "metadata": {},
   "outputs": [
    {
     "name": "stdout",
     "output_type": "stream",
     "text": [
      "name='KIRTAN' email='kirtankirtan@mailbox.unideb.hu' linkedin_url=AnyUrl('https://www.linkedin.com/in/kirtan-ramwani-3b65a8231/') age=21 weight=70.5 married=False allergies=['Lactose', 'Gluten', 'pollen']\n"
     ]
    }
   ],
   "source": [
    "from pydantic import BaseModel,EmailStr,AnyUrl,Field,field_validator\n",
    "from typing import List, Dict,Annotated  \n",
    "\n",
    "## Annotated + Field =  metadata for docs\n",
    "\n",
    "class Patient(BaseModel):\n",
    "    name:str\n",
    "    email:EmailStr\n",
    "    linkedin_url:AnyUrl\n",
    "    age:int\n",
    "    weight:float \n",
    "    married:bool\n",
    "    allergies:List[str] \n",
    "\n",
    "\n",
    "    ## custom validaton using decorator method\n",
    "\n",
    "#method 1 to validate the emails from @mailbox.unideb.hu domain only\n",
    "\n",
    "\n",
    "    @field_validator('email')\n",
    "    @classmethod\n",
    "    def email_validator(cls,email_value):\n",
    "        if not '@mailbox.unideb.hu' in email_value:\n",
    "            raise ValueError(\"Email must be from mailbox.unideb.hu domain\")\n",
    "        return email_value\n",
    "    \n",
    "\n",
    "        \n",
    "\n",
    "# method 2 to transform the name in capitalize letters\n",
    "    @field_validator('name')\n",
    "    @classmethod\n",
    "    def capitalize_name(cls,name):\n",
    "        return name.upper()\n",
    "    \n",
    "\n",
    "## method 3 to validate age\n",
    "    @field_validator('age',mode='after')\n",
    "    @classmethod\n",
    "    def validate_age(cls,age):\n",
    "        if 0 < age < 100:\n",
    "            return age\n",
    "        raise ValueError(\"Age must be between 0 and 100\")\n",
    "\n",
    "\n",
    "\n",
    "patient1_info ={\n",
    "    \"name\":\"kirtan\",\n",
    "    'email':'kirtankirtan@mailbox.unideb.hu',\n",
    "    'linkedin_url':'https://www.linkedin.com/in/kirtan-ramwani-3b65a8231/',\n",
    "    \"age\":'21',\n",
    "    \"weight\":70.5,\n",
    "    \"married\":False,\n",
    "    \"allergies\":['Lactose','Gluten','pollen']\n",
    "    \n",
    "   \n",
    "}\n",
    "\n",
    "patient1 = Patient(**patient1_info)   ###  type coercion and vlidations happens here\n",
    "\n",
    "print(patient1)\n",
    "\n",
    "\n",
    "\n",
    "## validation and documentation using pydantic"
   ]
  },
  {
   "cell_type": "markdown",
   "id": "7894e581",
   "metadata": {},
   "source": [
    "### Model validator\n",
    "\n",
    "- For validating more than one fields"
   ]
  },
  {
   "cell_type": "code",
   "execution_count": 18,
   "id": "ac88b1eb",
   "metadata": {},
   "outputs": [
    {
     "name": "stdout",
     "output_type": "stream",
     "text": [
      "name='kirtan' email='kirtankirtan@mailbox.unideb.hu' linkedin_url=AnyUrl('https://www.linkedin.com/in/kirtan-ramwani-3b65a8231/') age=65 weight=70.5 married=False allergies=['Lactose', 'Gluten', 'pollen'] contact_details={'phone': '123-123-1234', 'emergency': '456-456-4567'}\n"
     ]
    }
   ],
   "source": [
    "from pydantic import BaseModel,EmailStr,AnyUrl,Field,field_validator,model_validator\n",
    "from typing import List, Dict,Annotated  \n",
    "\n",
    "\n",
    "class Patient(BaseModel):\n",
    "    name:str\n",
    "    email:EmailStr\n",
    "    linkedin_url:AnyUrl\n",
    "    age:int\n",
    "    weight:float \n",
    "    married:bool\n",
    "    allergies:List[str] \n",
    "    contact_details:Dict[str,str]\n",
    "\n",
    "\n",
    "\n",
    "    @model_validator(mode='after')\n",
    "    def emergency_contact(cls,model):\n",
    "        if model.age > 60 and 'emergency' not in model.contact_details:\n",
    "            raise ValueError(\"Emergency contact is required for patients over 60\")\n",
    "        return model\n",
    "    \n",
    "\n",
    "\n",
    "\n",
    "\n",
    "\n",
    "\n",
    "\n",
    "patient1_info ={\n",
    "    \"name\":\"kirtan\",\n",
    "    'email':'kirtankirtan@mailbox.unideb.hu',\n",
    "    'linkedin_url':'https://www.linkedin.com/in/kirtan-ramwani-3b65a8231/',\n",
    "    \"age\":'65',\n",
    "    \"weight\":70.5,\n",
    "    \"married\":False,\n",
    "    \"allergies\":['Lactose','Gluten','pollen'],\n",
    "    \"contact_details\":{\"phone\":\"123-123-1234\",'emergency':\"456-456-4567\"}\n",
    "}\n",
    "\n",
    "patient1 = Patient(**patient1_info)   \n",
    "print(patient1)\n",
    "\n",
    "\n"
   ]
  },
  {
   "cell_type": "markdown",
   "id": "55c96167",
   "metadata": {},
   "source": [
    "## Computed Fields \n",
    "fields for which user dont provide information, we just compute using the other information of user."
   ]
  },
  {
   "cell_type": "code",
   "execution_count": 29,
   "id": "a32b861d",
   "metadata": {},
   "outputs": [
    {
     "name": "stdout",
     "output_type": "stream",
     "text": [
      "name='kirtan' email='kirtankirtan@mailbox.unideb.hu' linkedin_url=AnyUrl('https://www.linkedin.com/in/kirtan-ramwani-3b65a8231/') age=65 weight=70.5 height=1.75 married=False allergies=['Lactose', 'Gluten', 'pollen'] contact_details={'phone': '123-123-1234', 'emergency': '456-456-4567'} calculate_bmi=23.02\n"
     ]
    }
   ],
   "source": [
    "from pydantic import BaseModel,EmailStr,AnyUrl,computed_field\n",
    "from typing import List, Dict,Annotated  \n",
    "\n",
    "\n",
    "class Patient(BaseModel):\n",
    "    name:str\n",
    "    email:EmailStr\n",
    "    linkedin_url:AnyUrl\n",
    "    age:int\n",
    "    weight:float ##kgs\n",
    "    height:float ##meters\n",
    "    married:bool\n",
    "    allergies:List[str] \n",
    "    contact_details:Dict[str,str]\n",
    "\n",
    "## using computed field decorator method to calculate bmi\n",
    "\n",
    "    @computed_field\n",
    "    @property\n",
    "    def calculate_bmi(self) -> float:\n",
    "        bmi = round((self.weight / self.height **2),2)\n",
    "        return bmi\n",
    "\n",
    "\n",
    "\n",
    "patient1_info ={\n",
    "    \"name\":\"kirtan\",\n",
    "    'email':'kirtankirtan@mailbox.unideb.hu',\n",
    "    'linkedin_url':'https://www.linkedin.com/in/kirtan-ramwani-3b65a8231/',\n",
    "    \"age\":'65',\n",
    "    \"weight\":70.5,\n",
    "    \"height\":1.75,\n",
    "    \"married\":False,\n",
    "    \"allergies\":['Lactose','Gluten','pollen'],\n",
    "    \"contact_details\":{\"phone\":\"123-123-1234\",'emergency':\"456-456-4567\"}\n",
    "}\n",
    "\n",
    "patient1 = Patient(**patient1_info)   \n",
    "print(patient1)\n",
    "\n"
   ]
  },
  {
   "cell_type": "code",
   "execution_count": 74,
   "id": "4fbba0e7",
   "metadata": {},
   "outputs": [],
   "source": [
    "## Fields with Default value\n",
    "\n",
    "\n",
    "class User(BaseModel):\n",
    "    username: str = Field(...,description=\"Unique username\")\n",
    "    email: str = Field(default_factory=lambda:\"user@example.com\",description=\"User email address\")\n",
    "    age: int = Field(default=18,ge=0,description=\"User age,defaults to 18\")\n",
    "\n",
    "\n"
   ]
  },
  {
   "cell_type": "code",
   "execution_count": 75,
   "id": "62baecb8",
   "metadata": {},
   "outputs": [
    {
     "name": "stdout",
     "output_type": "stream",
     "text": [
      "username='Kirtan' email='user@example.com' age=18\n",
      "username='Kirtan' email='ramwanikirtan@gmail.com' age=21\n"
     ]
    }
   ],
   "source": [
    "## Examples\n",
    "user1 = User(username=\"Kirtan\")\n",
    "print(user1) \n",
    "\n",
    "## User with all fields\n",
    "user2 = User(username=\"Kirtan\",email=\"ramwanikirtan@gmail.com\",age=21)\n",
    "print(user2) "
   ]
  },
  {
   "cell_type": "code",
   "execution_count": 76,
   "id": "00e883c5",
   "metadata": {},
   "outputs": [
    {
     "name": "stdout",
     "output_type": "stream",
     "text": [
      "{'properties': {'username': {'description': 'Unique username', 'title': 'Username', 'type': 'string'}, 'email': {'description': 'User email address', 'title': 'Email', 'type': 'string'}, 'age': {'default': 18, 'description': 'User age,defaults to 18', 'minimum': 0, 'title': 'Age', 'type': 'integer'}}, 'required': ['username'], 'title': 'User', 'type': 'object'}\n"
     ]
    }
   ],
   "source": [
    "print(User.model_json_schema())"
   ]
  },
  {
   "cell_type": "markdown",
   "id": "f35af18d",
   "metadata": {},
   "source": [
    "## Serialization\n",
    "\n",
    "Serialization is the process of converting an in-memory object into a format that can be stored or transmitted (e.g., JSON, XML, bytes) while preserving its data and structure.  \n",
    "Deserialization is the reverse: reconstructing the in-memory object from that serialized representation.  \n",
    "\n",
    "Common uses: persistence (save to disk), network transfer (APIs), or inter-process communication.  \n",
    "In Pydantic (v2) you typically serialize models with .model_dump() to get a dict and .model_dump_json() to get JSON; nested models are serialized automatically."
   ]
  },
  {
   "cell_type": "code",
   "execution_count": 49,
   "id": "7212ef6f",
   "metadata": {},
   "outputs": [
    {
     "name": "stdout",
     "output_type": "stream",
     "text": [
      "{'name': 'John Doe', 'gender': 'Male', 'age': 30}\n",
      "<class 'dict'>\n",
      "{'name': 'John Doe', 'age': 30, 'address': {'street_no': 123, 'city': 'New York', 'state': 'NY', 'zip': 10001}}\n",
      "<class 'dict'>\n",
      "{\"name\":\"John Doe\",\"gender\":\"Male\",\"age\":30,\"address\":{\"state\":\"NY\",\"zip\":10001}}\n",
      "<class 'str'>\n"
     ]
    }
   ],
   "source": [
    "from pydantic import BaseModel\n",
    "\n",
    "class Address(BaseModel):\n",
    "    street_no: int\n",
    "    city: str\n",
    "    state: str\n",
    "    zip: int\n",
    "\n",
    "class Patient(BaseModel):\n",
    "    name: str\n",
    "    gender:str = 'Male'\n",
    "    age: int\n",
    "    address: Address\n",
    "\n",
    "\n",
    "patient1_info = {\n",
    "    \"name\": \"John Doe\",\n",
    "    \"age\": 30,\n",
    "    \"address\": {\n",
    "        \"street_no\": 123,\n",
    "        \"city\": \"New York\",\n",
    "        \"state\": \"NY\",\n",
    "        \"zip\": 10001\n",
    "    }\n",
    "}\n",
    "\n",
    "patient1 = Patient(**patient1_info)\n",
    "# print(patient1)\n",
    "\n",
    "\n",
    "temp_dict = patient1.model_dump(include=['name','age','gender'])   ## convert the full pydantic model to a dictionary\n",
    "print(temp_dict)\n",
    "print(type(temp_dict))\n",
    "\n",
    "temp = patient1.model_dump(exclude_unset=True)   ## convert the full pydantic model to a dictionary\n",
    "print(temp)\n",
    "print(type(temp))\n",
    "\n",
    "temp_json = patient1.model_dump_json(exclude={\"address\":['city','street_no']})   ## convert the full pydantic model to a JSON string\n",
    "print(temp_json)\n",
    "print(type(temp_json))\n",
    "\n"
   ]
  },
  {
   "cell_type": "code",
   "execution_count": null,
   "id": "1aea3261",
   "metadata": {},
   "outputs": [],
   "source": []
  }
 ],
 "metadata": {
  "kernelspec": {
   "display_name": "Python 3",
   "language": "python",
   "name": "python3"
  },
  "language_info": {
   "codemirror_mode": {
    "name": "ipython",
    "version": 3
   },
   "file_extension": ".py",
   "mimetype": "text/x-python",
   "name": "python",
   "nbconvert_exporter": "python",
   "pygments_lexer": "ipython3",
   "version": "3.12.0"
  }
 },
 "nbformat": 4,
 "nbformat_minor": 5
}
