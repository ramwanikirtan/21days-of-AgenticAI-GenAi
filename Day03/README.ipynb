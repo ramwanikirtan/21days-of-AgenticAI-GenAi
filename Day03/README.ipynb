{
 "cells": [
  {
   "cell_type": "markdown",
   "id": "52c31b0b",
   "metadata": {},
   "source": [
    "# Day 03: LangChain Deep Dive and Practical Experiments\n",
    "\n",
    "## Personal Note\n",
    "I took a 1-day break before starting Day 3. Instead of jumping straight into coding, I decided to first dive deep into the theory. This helped me build a strong foundation and understand the bigger picture of what I was about to implement. I focused on understanding what LangChain is, its core components, and how they fit together. This approach made me more interested and motivated to learn the practical aspects."
   ]
  },
  {
   "cell_type": "markdown",
   "id": "5e35c91c",
   "metadata": {},
   "source": [
    "## What I Studied\n",
    "\n",
    "### 1. LangChain Overview\n",
    "- **What is LangChain?**\n",
    "  - A framework for developing applications powered by language models.\n",
    "  - Enables chaining together LLMs, prompts, memory, agents, and more.\n",
    "- **Core Components:**\n",
    "  - **Models:** LLMs (OpenAI, Anthropic, HuggingFace, etc.)\n",
    "  - **Prompts:** Templates and prompt engineering\n",
    "  - **Memory:** Storing and recalling information across interactions\n",
    "  - **Agents:** Tools that use LLMs to decide actions\n",
    "  - **Chains:** Sequences of calls (LLMs, tools, etc.)\n",
    "  - **Indexes:** For document retrieval and search"
   ]
  },
  {
   "cell_type": "markdown",
   "id": "85ce8598",
   "metadata": {},
   "source": [
    "### 2. Deep Dive into Components\n",
    "- Studied each component in detail using YouTube tutorials and LangChain documentation.\n",
    "- Understood how each part works and how they interact in real-world applications."
   ]
  },
  {
   "cell_type": "markdown",
   "id": "bf0430d8",
   "metadata": {},
   "source": [
    "### 3. Practical Coding (Day 3 Code)\n",
    "- **Closed Source LLMs:**\n",
    "  - Used OpenAI and Anthropic models via API.\n",
    "  - Learned how to set up API keys and environment variables.\n",
    "  - Explored different parameters (temperature, max tokens, etc.).\n",
    "- **Chat Models:**\n",
    "  - Implemented both closed source (OpenAI, Anthropic) and open source (HuggingFace) chat models.\n",
    "  - Compared their outputs and usage patterns.\n",
    "- **Embeddings Models:**\n",
    "  - Experimented with embedding models for text representation.\n",
    "  - Learned about their role in search, retrieval, and similarity tasks.\n",
    "- **Functions and Utilities:**\n",
    "  - Explored various LangChain functions for invoking models, handling outputs, and chaining operations."
   ]
  },
  {
   "cell_type": "markdown",
   "id": "e227cde8",
   "metadata": {},
   "source": [
    "### 4. Learning Resources\n",
    "- YouTube tutorials (for hands-on demos and explanations)\n",
    "- LangChain official documentation (for in-depth understanding and code samples)"
   ]
  },
  {
   "cell_type": "markdown",
   "id": "2efaca86",
   "metadata": {},
   "source": [
    "## Summary\n",
    "Day 3 was a mix of theory and hands-on practice. I now have a solid understanding of LangChain's architecture and have implemented code for both closed and open source LLMs, chat models, and embeddings. This foundation will help me explore more advanced topics in the coming days."
   ]
  }
 ],
 "metadata": {
  "language_info": {
   "name": "python"
  }
 },
 "nbformat": 4,
 "nbformat_minor": 5
}
