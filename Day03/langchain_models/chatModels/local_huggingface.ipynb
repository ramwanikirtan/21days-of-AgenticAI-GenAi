{
 "cells": [
  {
   "cell_type": "code",
   "execution_count": null,
   "id": "06cfad93",
   "metadata": {},
   "outputs": [
    {
     "name": "stderr",
     "output_type": "stream",
     "text": [
      "Device set to use cpu\n"
     ]
    },
    {
     "name": "stdout",
     "output_type": "stream",
     "text": [
      "greet me in a polite way.\n",
      "\n",
      "2. \"Good morning, sir. How may I assist you?\"\n",
      "\n",
      "3. \"Good afternoon, ma'am. How may I help you today?\"\n",
      "\n",
      "4. \"\n"
     ]
    }
   ],
   "source": [
    "from langchain_huggingface import HuggingFacePipeline\n",
    "\n",
    "llm = HuggingFacePipeline.from_model_id(\n",
    "    model_id = 'TinyLlama/TinyLlama-1.1B-Chat-v1.0',\n",
    "    task = 'text-generation',\n",
    "    pipeline_kwargs={'temperature': 0.6, 'max_length': 50}\n",
    ")\n",
    "\n",
    "result = llm.invoke('greet me in a polite way')\n",
    "print(result)"
   ]
  },
  {
   "cell_type": "code",
   "execution_count": null,
   "id": "81ff5683",
   "metadata": {},
   "outputs": [
    {
     "name": "stderr",
     "output_type": "stream",
     "text": [
      "Device set to use cpu\n"
     ]
    },
    {
     "name": "stdout",
     "output_type": "stream",
     "text": [
      "5 lines roadmap to learn AI\n"
     ]
    }
   ],
   "source": [
    "from langchain_huggingface import HuggingFacePipeline\n",
    "\n",
    "llm = HuggingFacePipeline.from_model_id(\n",
    "    model_id = 'google/flan-t5-large',\n",
    "    task = 'text2text-generation',\n",
    "    pipeline_kwargs={'temperature': 1.0, 'max_length': 50}\n",
    ")\n",
    "\n",
    "result = llm.invoke('Can you please tell me what is the full form of AI?')\n",
    "print(result)"
   ]
  },
  {
   "cell_type": "code",
   "execution_count": null,
   "id": "b7bb24be",
   "metadata": {},
   "outputs": [
    {
     "name": "stderr",
     "output_type": "stream",
     "text": [
      "Device set to use cpu\n"
     ]
    },
    {
     "name": "stdout",
     "output_type": "stream",
     "text": [
      "Artificial intelligence\n"
     ]
    }
   ],
   "source": [
    "\n",
    "from langchain_huggingface import HuggingFacePipeline\n",
    "\n",
    "llm = HuggingFacePipeline.from_model_id(\n",
    "    model_id = \"google/flan-t5-large\",\n",
    "    task = \"text2text-generation\",\n",
    "    pipeline_kwargs={\"temperature\": 1.0, \"max_length\": 50}\n",
    " )\n",
    "\n",
    "result = llm.invoke(\"Can you please tell me what is the full form of AI?\")\n",
    "print(result)"
   ]
  },
  {
   "cell_type": "code",
   "execution_count": null,
   "id": "cfa5b630",
   "metadata": {},
   "outputs": [],
   "source": []
  }
 ],
 "metadata": {
  "kernelspec": {
   "display_name": "Python 3",
   "language": "python",
   "name": "python3"
  },
  "language_info": {
   "codemirror_mode": {
    "name": "ipython",
    "version": 3
   },
   "file_extension": ".py",
   "mimetype": "text/x-python",
   "name": "python",
   "nbconvert_exporter": "python",
   "pygments_lexer": "ipython3",
   "version": "3.12.0"
  }
 },
 "nbformat": 4,
 "nbformat_minor": 5
}
